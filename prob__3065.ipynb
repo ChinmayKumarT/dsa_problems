{
  "nbformat": 4,
  "nbformat_minor": 0,
  "metadata": {
    "colab": {
      "provenance": [],
      "authorship_tag": "ABX9TyNDQthJKRr7cNJAG7xzBB6I",
      "include_colab_link": true
    },
    "kernelspec": {
      "name": "python3",
      "display_name": "Python 3"
    },
    "language_info": {
      "name": "python"
    }
  },
  "cells": [
    {
      "cell_type": "markdown",
      "metadata": {
        "id": "view-in-github",
        "colab_type": "text"
      },
      "source": [
        "<a href=\"https://colab.research.google.com/github/ChinmayKumarT/dsa_problems/blob/main/prob__3065.ipynb\" target=\"_parent\"><img src=\"https://colab.research.google.com/assets/colab-badge.svg\" alt=\"Open In Colab\"/></a>"
      ]
    },
    {
      "cell_type": "code",
      "execution_count": 36,
      "metadata": {
        "colab": {
          "base_uri": "https://localhost:8080/"
        },
        "id": "sjgHtvCHdTxY",
        "outputId": "9f04bbd2-c137-4a8f-8ecb-de166b030ccc"
      },
      "outputs": [
        {
          "output_type": "stream",
          "name": "stdout",
          "text": [
            "2\n"
          ]
        }
      ],
      "source": [
        "from typing import List\n",
        "class Solution:\n",
        "    def minOperations(self, nums: List[int], k: int) -> int:\n",
        "      nums.sort()\n",
        "      count = 0\n",
        "      for i in nums :\n",
        "        if i < k :\n",
        "          count+=1\n",
        "        else:\n",
        "          break\n",
        "      return count\n",
        "\n",
        "\n",
        "\n",
        "nums = [1,1,2,4,9]\n",
        "k = 1\n",
        "if __name__ == \"__main__\":\n",
        "  s = Solution()\n",
        "  print(s.minOperations(nums,k))"
      ]
    },
    {
      "cell_type": "code",
      "source": [
        "s"
      ],
      "metadata": {
        "id": "E5ENcte-dwwl"
      },
      "execution_count": null,
      "outputs": []
    }
  ]
}