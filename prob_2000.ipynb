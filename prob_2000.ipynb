{
  "nbformat": 4,
  "nbformat_minor": 0,
  "metadata": {
    "colab": {
      "provenance": [],
      "authorship_tag": "ABX9TyPCb29YldDBcpYrC9kN+zN8",
      "include_colab_link": true
    },
    "kernelspec": {
      "name": "python3",
      "display_name": "Python 3"
    },
    "language_info": {
      "name": "python"
    }
  },
  "cells": [
    {
      "cell_type": "markdown",
      "metadata": {
        "id": "view-in-github",
        "colab_type": "text"
      },
      "source": [
        "<a href=\"https://colab.research.google.com/github/ChinmayKumarT/dsa_problems/blob/main/prob_2000.ipynb\" target=\"_parent\"><img src=\"https://colab.research.google.com/assets/colab-badge.svg\" alt=\"Open In Colab\"/></a>"
      ]
    },
    {
      "cell_type": "code",
      "execution_count": 18,
      "metadata": {
        "colab": {
          "base_uri": "https://localhost:8080/"
        },
        "id": "j6itbqNgqspg",
        "outputId": "ce3fb79f-9f5b-4f10-a2d0-d534bf97a991"
      },
      "outputs": [
        {
          "output_type": "stream",
          "name": "stdout",
          "text": [
            "dcbaefd\n"
          ]
        }
      ],
      "source": [
        "class Solution:\n",
        "    def reversePrefix(self, word: str, ch: str) -> str:\n",
        "        if ch in word:\n",
        "            idx = words.index(ch)\n",
        "            oth = words[idx+1:]\n",
        "            rev = word[:idx+1]\n",
        "            r = rev[::-1]\n",
        "        return r + oth\n",
        "\n",
        "\n",
        "\n",
        "words = \"abcdefd\"\n",
        "ch = \"d\"\n",
        "if __name__ == \"__main__\":\n",
        "    s = Solution()\n",
        "    print(s.reversePrefix(\"abcdefg\", \"d\"))\n"
      ]
    },
    {
      "cell_type": "code",
      "source": [],
      "metadata": {
        "id": "cVtfVZPVrzA5"
      },
      "execution_count": null,
      "outputs": []
    }
  ]
}