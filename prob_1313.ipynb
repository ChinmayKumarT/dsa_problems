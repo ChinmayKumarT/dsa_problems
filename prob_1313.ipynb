{
  "nbformat": 4,
  "nbformat_minor": 0,
  "metadata": {
    "colab": {
      "provenance": [],
      "authorship_tag": "ABX9TyP9fiatKEyXwTIfskbgj7kf",
      "include_colab_link": true
    },
    "kernelspec": {
      "name": "python3",
      "display_name": "Python 3"
    },
    "language_info": {
      "name": "python"
    }
  },
  "cells": [
    {
      "cell_type": "markdown",
      "metadata": {
        "id": "view-in-github",
        "colab_type": "text"
      },
      "source": [
        "<a href=\"https://colab.research.google.com/github/ChinmayKumarT/dsa_problems/blob/main/prob_1313.ipynb\" target=\"_parent\"><img src=\"https://colab.research.google.com/assets/colab-badge.svg\" alt=\"Open In Colab\"/></a>"
      ]
    },
    {
      "cell_type": "code",
      "execution_count": 26,
      "metadata": {
        "colab": {
          "base_uri": "https://localhost:8080/"
        },
        "id": "S8UQauQSOxI_",
        "outputId": "a1bd3384-1842-4183-f070-48252672e81f"
      },
      "outputs": [
        {
          "output_type": "stream",
          "name": "stdout",
          "text": [
            "[2, 4, 4, 4]\n"
          ]
        }
      ],
      "source": [
        "from typing import List\n",
        "class Solution:\n",
        "    def decompressRLElist(self, nums: List[int]) -> List[int]:\n",
        "      return [nums[i + 1] for i in range(0 , len(nums) , 2) for j in range(nums[i])]\n",
        "\n",
        "\n",
        "nums = [1,2,3,4]\n",
        "if __name__ == '__main__':\n",
        "  s = Solution()\n",
        "  print(s.decompressRLElist(nums))"
      ]
    },
    {
      "cell_type": "code",
      "source": [],
      "metadata": {
        "id": "nuM6dFhvPGn7"
      },
      "execution_count": null,
      "outputs": []
    }
  ]
}