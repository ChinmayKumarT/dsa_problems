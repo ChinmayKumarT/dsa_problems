{
  "nbformat": 4,
  "nbformat_minor": 0,
  "metadata": {
    "colab": {
      "provenance": [],
      "authorship_tag": "ABX9TyNbfg7IIMJaG/b9qR1mpUlz",
      "include_colab_link": true
    },
    "kernelspec": {
      "name": "python3",
      "display_name": "Python 3"
    },
    "language_info": {
      "name": "python"
    }
  },
  "cells": [
    {
      "cell_type": "markdown",
      "metadata": {
        "id": "view-in-github",
        "colab_type": "text"
      },
      "source": [
        "<a href=\"https://colab.research.google.com/github/ChinmayKumarT/dsa_problems/blob/main/prob_1389.ipynb\" target=\"_parent\"><img src=\"https://colab.research.google.com/assets/colab-badge.svg\" alt=\"Open In Colab\"/></a>"
      ]
    },
    {
      "cell_type": "code",
      "execution_count": 16,
      "metadata": {
        "colab": {
          "base_uri": "https://localhost:8080/"
        },
        "id": "yuMzB8D2uMD9",
        "outputId": "7e85a78a-0a49-4fa9-ec18-1e47e974e6d7"
      },
      "outputs": [
        {
          "output_type": "stream",
          "name": "stdout",
          "text": [
            "[0, 1, 2, 3, 4]\n"
          ]
        }
      ],
      "source": [
        "from typing import List\n",
        "class Solution:\n",
        "    def createTargetArray(self, nums: List[int], index: List[int]) -> List[int]:\n",
        "      res = []\n",
        "      for i in range(len(nums)):\n",
        "        res.insert(index[i],nums[i])\n",
        "      return res\n",
        "\n",
        "\n",
        "\n",
        "\n",
        "nums = [1,2,3,4,0]\n",
        "index = [0,1,2,3,0]\n",
        "if __name__ == \"__main__\":\n",
        "  s = Solution()\n",
        "  print(s.createTargetArray(nums,index))"
      ]
    },
    {
      "cell_type": "code",
      "source": [],
      "metadata": {
        "id": "XgyTGS3quizz"
      },
      "execution_count": null,
      "outputs": []
    }
  ]
}