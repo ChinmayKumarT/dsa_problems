{
  "nbformat": 4,
  "nbformat_minor": 0,
  "metadata": {
    "colab": {
      "provenance": [],
      "authorship_tag": "ABX9TyMceI35ABwYE7FCbSDafmdR",
      "include_colab_link": true
    },
    "kernelspec": {
      "name": "python3",
      "display_name": "Python 3"
    },
    "language_info": {
      "name": "python"
    }
  },
  "cells": [
    {
      "cell_type": "markdown",
      "metadata": {
        "id": "view-in-github",
        "colab_type": "text"
      },
      "source": [
        "<a href=\"https://colab.research.google.com/github/ChinmayKumarT/dsa_problems/blob/main/prob_1816.ipynb\" target=\"_parent\"><img src=\"https://colab.research.google.com/assets/colab-badge.svg\" alt=\"Open In Colab\"/></a>"
      ]
    },
    {
      "cell_type": "code",
      "execution_count": 26,
      "metadata": {
        "colab": {
          "base_uri": "https://localhost:8080/"
        },
        "id": "5BsghwakYy20",
        "outputId": "c1f63da7-2f5a-42a2-bee0-7155f8ac1cfc"
      },
      "outputs": [
        {
          "output_type": "stream",
          "name": "stdout",
          "text": [
            "\"Hello how are you\"\n"
          ]
        }
      ],
      "source": [
        "class Solution:\n",
        "    def truncateSentence(self, s: str, k: int) -> str:\n",
        "          w = s.split(\" \")\n",
        "          return \" \".join(w[:k])\n",
        "\n",
        "\n",
        "\n",
        "\n",
        "\n",
        "s = \"Hello how are you Contestant\"\n",
        "k = 4\n",
        "if __name__ == \"__main__\":\n",
        "  s1 = Solution()\n",
        "  print(s1.truncateSentence(s,k))"
      ]
    },
    {
      "cell_type": "code",
      "source": [],
      "metadata": {
        "id": "VIUxl9D3ZJch"
      },
      "execution_count": null,
      "outputs": []
    }
  ]
}