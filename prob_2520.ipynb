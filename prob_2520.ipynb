{
  "nbformat": 4,
  "nbformat_minor": 0,
  "metadata": {
    "colab": {
      "provenance": [],
      "authorship_tag": "ABX9TyM8tJklc0POmyg/udKiVuQi",
      "include_colab_link": true
    },
    "kernelspec": {
      "name": "python3",
      "display_name": "Python 3"
    },
    "language_info": {
      "name": "python"
    }
  },
  "cells": [
    {
      "cell_type": "markdown",
      "metadata": {
        "id": "view-in-github",
        "colab_type": "text"
      },
      "source": [
        "<a href=\"https://colab.research.google.com/github/ChinmayKumarT/dsa_problems/blob/main/prob_2520.ipynb\" target=\"_parent\"><img src=\"https://colab.research.google.com/assets/colab-badge.svg\" alt=\"Open In Colab\"/></a>"
      ]
    },
    {
      "cell_type": "code",
      "execution_count": null,
      "metadata": {
        "colab": {
          "base_uri": "https://localhost:8080/"
        },
        "id": "mLgqTOyGDfZM",
        "outputId": "74219fbd-279b-477a-ca52-07d4c9c47d3b"
      },
      "outputs": [
        {
          "output_type": "stream",
          "name": "stdout",
          "text": [
            "2\n"
          ]
        }
      ],
      "source": [
        "class Solution:\n",
        "    def countDigits(self, num: int) -> int:\n",
        "      num_str = str(num)\n",
        "      count = 0\n",
        "      for i in num_str:\n",
        "        if num%int(i)==0:\n",
        "          count+=1\n",
        "      return count\n",
        "\n",
        "\n",
        "\n",
        "num = 121\n",
        "\n",
        "s = Solution()\n",
        "if __name__ == \"__main__\":\n",
        "  print(s.countDigits(num))\n"
      ]
    },
    {
      "cell_type": "code",
      "source": [],
      "metadata": {
        "id": "A16EnImVEWTN"
      },
      "execution_count": null,
      "outputs": []
    }
  ]
}