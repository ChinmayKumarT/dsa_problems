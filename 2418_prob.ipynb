{
  "nbformat": 4,
  "nbformat_minor": 0,
  "metadata": {
    "colab": {
      "provenance": [],
      "authorship_tag": "ABX9TyNTKJnSeGs+ZoxlretYGeZa",
      "include_colab_link": true
    },
    "kernelspec": {
      "name": "python3",
      "display_name": "Python 3"
    },
    "language_info": {
      "name": "python"
    }
  },
  "cells": [
    {
      "cell_type": "markdown",
      "metadata": {
        "id": "view-in-github",
        "colab_type": "text"
      },
      "source": [
        "<a href=\"https://colab.research.google.com/github/ChinmayKumarT/dsa_problems/blob/main/2418_prob.ipynb\" target=\"_parent\"><img src=\"https://colab.research.google.com/assets/colab-badge.svg\" alt=\"Open In Colab\"/></a>"
      ]
    },
    {
      "cell_type": "code",
      "execution_count": 18,
      "metadata": {
        "colab": {
          "base_uri": "https://localhost:8080/"
        },
        "id": "-PzEdLQsisUy",
        "outputId": "66ad3600-c684-4380-b98d-354d4a59a3c0"
      },
      "outputs": [
        {
          "output_type": "stream",
          "name": "stdout",
          "text": [
            "['Mary', 'Emma', 'John']\n"
          ]
        }
      ],
      "source": [
        "from typing import List\n",
        "class Solution:\n",
        "    def sortPeople(self, names: List[str], heights: List[int]) -> List[str]:\n",
        "      dic = dict(zip(heights,names))\n",
        "      sort_ed = sorted(heights,reverse=True)\n",
        "      sorted_names = [dic[height] for height in sort_ed]\n",
        "      return sorted_names\n",
        "\n",
        "names = [\"Mary\",\"John\",\"Emma\"]\n",
        "heights = [180,165,170]\n",
        "s = Solution()\n",
        "if __name__ == '__main__':\n",
        "  print(s.sortPeople(names,heights))"
      ]
    }
  ]
}