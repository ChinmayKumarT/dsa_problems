{
  "nbformat": 4,
  "nbformat_minor": 0,
  "metadata": {
    "colab": {
      "provenance": [],
      "authorship_tag": "ABX9TyMk867vVBmU90nNSqm5NGJj",
      "include_colab_link": true
    },
    "kernelspec": {
      "name": "python3",
      "display_name": "Python 3"
    },
    "language_info": {
      "name": "python"
    }
  },
  "cells": [
    {
      "cell_type": "markdown",
      "metadata": {
        "id": "view-in-github",
        "colab_type": "text"
      },
      "source": [
        "<a href=\"https://colab.research.google.com/github/ChinmayKumarT/dsa_problems/blob/main/prob_3285.ipynb\" target=\"_parent\"><img src=\"https://colab.research.google.com/assets/colab-badge.svg\" alt=\"Open In Colab\"/></a>"
      ]
    },
    {
      "cell_type": "code",
      "execution_count": 10,
      "metadata": {
        "colab": {
          "base_uri": "https://localhost:8080/"
        },
        "id": "o4XFOVhXVTJ4",
        "outputId": "c4e48b0c-40db-4738-8db9-cb606a37f9d5"
      },
      "outputs": [
        {
          "output_type": "stream",
          "name": "stdout",
          "text": [
            "[1, 3]\n"
          ]
        }
      ],
      "source": [
        "from typing import List\n",
        "class Solution:\n",
        "    def stableMountains(self, height: List[int], threshold: int) -> List[int]:\n",
        "      res = []\n",
        "      for i ,val in enumerate(height):\n",
        "        if i>0 and height[i-1] > threshold:\n",
        "          res.append(i)\n",
        "      return res\n",
        "\n",
        "\n",
        "\n",
        "\n",
        "\n",
        "height = [10,1,10,1,10]\n",
        "threshold = 3\n",
        "if __name__ == '__main__':\n",
        "  s = Solution()\n",
        "  print(s.stableMountains(height,threshold))\n",
        "\n",
        "\n"
      ]
    },
    {
      "cell_type": "code",
      "source": [],
      "metadata": {
        "id": "jsZAt3uiV3xQ"
      },
      "execution_count": null,
      "outputs": []
    }
  ]
}